{
 "cells": [
  {
   "cell_type": "code",
   "execution_count": null,
   "metadata": {},
   "outputs": [],
   "source": [
    "#1.Python program to implement myreduce() function.  \n",
    "#Get the list of odd numbers \n",
    "\n",
    "def oddnum(n):\n",
    "    odd=[]\n",
    "    for num in range(0,n):\n",
    "        if num%2 !=0:\n",
    "            odd.append(num)\n",
    "    return(odd)\n"
   ]
  },
  {
   "cell_type": "code",
   "execution_count": null,
   "metadata": {},
   "outputs": [],
   "source": [
    "#....then create myreduce function to get product of odds numbers less than n. \n",
    "def myreduce(mul,list):\n",
    "    return a\n",
    "def mul(a,b):\n",
    "    return a*b\n",
    "list=oddnum(20)\n",
    "a=list[0]\n",
    "for i in range(1,len(list)):\n",
    "    b=list[i]\n",
    "    a=mul(a,b)\n",
    "myreduce(mul,list)"
   ]
  },
  {
   "cell_type": "code",
   "execution_count": null,
   "metadata": {},
   "outputs": [],
   "source": [
    "#2\n",
    "# Filter the even and odd number from the list #\n",
    "\n",
    "number=int(input(\"Insert the number: \"))\n",
    "\n",
    "num_list=list(range(1,number+1))\n",
    "\n",
    "\n",
    "def myfilter(num_list):\n",
    "    '''This function will filter even and odd numbers from the list '''\n",
    "    num_even_list=[]\n",
    "    num_odd_list=[]\n",
    "    \n",
    "    for i in num_list:\n",
    "            if(i%2==0):\n",
    "                num_even_list.append(i)\n",
    "            else:\n",
    "                num_odd_list.append(i)\n",
    "                \n",
    "    return num_even_list,num_odd_list\n",
    "\n",
    "\n",
    "#Function Execution\n",
    "output_value=myfilter(num_list)\n",
    "\n",
    "#Output\n",
    "\n",
    "print(\"Output:\")\n",
    "print(\"List of numbers:\",num_list)\n",
    "print(\"List of Even numbers:\",output_value[0])\n",
    "print(\"List of Odd numbers:\",output_value[1])"
   ]
  },
  {
   "cell_type": "code",
   "execution_count": null,
   "metadata": {},
   "outputs": [],
   "source": [
    "#3. \n",
    "#1st part\n",
    "word1= list('xyz')\n",
    "word2=[x*n for x in word1 for n in range(1,5)]\n",
    "print(word2)"
   ]
  },
  {
   "cell_type": "code",
   "execution_count": null,
   "metadata": {},
   "outputs": [],
   "source": [
    "#2st part\n",
    "word1= list('xyz')\n",
    "word3=[x*n for n in range(1,5) for x in word1]\n",
    "print(word2)"
   ]
  },
  {
   "cell_type": "code",
   "execution_count": null,
   "metadata": {},
   "outputs": [],
   "source": [
    "#3rd part\n",
    "number1 =[2,3,4]\n",
    "number1=[[x+n] for x in number1 for n in range(0,3)]\n",
    "number2=[2,3,4,5]\n",
    "number2=[[x+n for n in range(0,4)] for x in number2]\n",
    "print(number1,number2)"
   ]
  },
  {
   "cell_type": "code",
   "execution_count": null,
   "metadata": {},
   "outputs": [],
   "source": [
    "#4th part\n",
    "number4= [1,2,3]\n",
    "number5=[(a,b) for b in number4 for a in number4]\n",
    "print(number5)"
   ]
  },
  {
   "cell_type": "code",
   "execution_count": null,
   "metadata": {},
   "outputs": [],
   "source": []
  }
 ],
 "metadata": {
  "kernelspec": {
   "display_name": "Python 3",
   "language": "python",
   "name": "python3"
  },
  "language_info": {
   "codemirror_mode": {
    "name": "ipython",
    "version": 3
   },
   "file_extension": ".py",
   "mimetype": "text/x-python",
   "name": "python",
   "nbconvert_exporter": "python",
   "pygments_lexer": "ipython3",
   "version": "3.8.5"
  }
 },
 "nbformat": 4,
 "nbformat_minor": 4
}
